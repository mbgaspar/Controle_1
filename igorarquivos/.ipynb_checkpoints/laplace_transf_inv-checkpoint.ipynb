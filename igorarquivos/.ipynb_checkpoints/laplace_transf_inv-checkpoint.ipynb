{
 "cells": [
  {
   "cell_type": "markdown",
   "metadata": {},
   "source": [
    "# Transformada e Inversa de Laplace c/ python"
   ]
  },
  {
   "cell_type": "markdown",
   "metadata": {},
   "source": [
    "Primeiro passo é incluir as libs necessárias e inicializar o módulo de impressão simbólica."
   ]
  },
  {
   "cell_type": "code",
   "execution_count": 2,
   "metadata": {},
   "outputs": [],
   "source": [
    "import sympy\n",
    "sympy.init_printing()\n",
    "\n",
    "import matplotlib.pyplot as plt\n",
    "%matplotlib inline"
   ]
  },
  {
   "cell_type": "markdown",
   "metadata": {},
   "source": [
    "De maneira a evitar um pouco de código boilerplate, vamos definir as funções a seguir:"
   ]
  },
  {
   "cell_type": "code",
   "execution_count": 3,
   "metadata": {},
   "outputs": [],
   "source": [
    "def L(f,t):\n",
    "    return sympy.laplace_transform(f, t, s, noconds=True)\n",
    "\n",
    "def invL(F,t):\n",
    "    return sympy.inverse_laplace_transform(F, s, t)"
   ]
  },
  {
   "cell_type": "markdown",
   "metadata": {},
   "source": [
    "## Transformada de Laplace"
   ]
  },
  {
   "cell_type": "code",
   "execution_count": 10,
   "metadata": {},
   "outputs": [
    {
     "name": "stdout",
     "output_type": "stream",
     "text": [
      "f(t)\n",
      " -a⋅t\n",
      "ℯ    \n",
      "\n",
      "\n",
      "F(s):\n",
      "  1  \n",
      "─────\n",
      "a + s\n"
     ]
    }
   ],
   "source": [
    "t, s = sympy.symbols('t, s')\n",
    "a = sympy.symbols('a', real=True, positive=True)\n",
    "\n",
    "f = sympy.exp(-a*t)\n",
    "\n",
    "print(\"f(t)\")\n",
    "sympy.pprint(f)\n",
    "\n",
    "F = L(f,t)\n",
    "print(\"\\n\\nF(s):\")\n",
    "sympy.pprint(F)"
   ]
  },
  {
   "cell_type": "markdown",
   "metadata": {},
   "source": [
    "## Transformada inversa de Laplace"
   ]
  },
  {
   "cell_type": "code",
   "execution_count": 9,
   "metadata": {},
   "outputs": [
    {
     "name": "stdout",
     "output_type": "stream",
     "text": [
      "F(s):\n",
      "  1  \n",
      "─────\n",
      "s + 2\n",
      "\n",
      "\n",
      " f(t):\n",
      " -2⋅t     \n",
      "ℯ    ⋅θ(t)\n"
     ]
    }
   ],
   "source": [
    "t, s = sympy.symbols('t, s')\n",
    "a = sympy.symbols('a', real=True, positive=True)\n",
    "\n",
    "F = 1/(s+2);\n",
    "print(\"F(s):\")\n",
    "sympy.pprint(F)\n",
    "\n",
    "f = invL(F,t)\n",
    "print(\"\\n\\nf(t):\")\n",
    "sympy.pprint(f)\n"
   ]
  },
  {
   "cell_type": "code",
   "execution_count": null,
   "metadata": {},
   "outputs": [],
   "source": []
  }
 ],
 "metadata": {
  "kernelspec": {
   "display_name": "Python 3",
   "language": "python",
   "name": "python3"
  },
  "language_info": {
   "codemirror_mode": {
    "name": "ipython",
    "version": 3
   },
   "file_extension": ".py",
   "mimetype": "text/x-python",
   "name": "python",
   "nbconvert_exporter": "python",
   "pygments_lexer": "ipython3",
   "version": "3.7.6"
  }
 },
 "nbformat": 4,
 "nbformat_minor": 4
}
